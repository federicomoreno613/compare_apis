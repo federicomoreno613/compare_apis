{
 "cells": [
  {
   "cell_type": "code",
   "execution_count": 1,
   "metadata": {
    "ExecuteTime": {
     "start_time": "2023-05-09T17:42:44.350603Z",
     "end_time": "2023-05-09T17:42:44.460768Z"
    }
   },
   "outputs": [],
   "source": [
    "from json import JSONDecodeError\n",
    "import time\n",
    "import requests\n",
    "import datetime\n",
    "import pandas as pd\n",
    "import concurrent.futures\n",
    "\n",
    "def get_data(url):\n",
    "    start_time = time.time() * 1000  # record the start time in milliseconds\n",
    "    response = requests.get(url+'date?full_format=true')\n",
    "    end_time = time.time() * 1000  # record the end time in milliseconds\n",
    "    response_code = response.status_code\n",
    "    hour = datetime.datetime.now().strftime(\"%H:%M:%S\")\n",
    "    counter_response = requests.get(f\"{url}counter\")\n",
    "    try:\n",
    "        count = counter_response.json()\n",
    "\n",
    "    except JSONDecodeError:\n",
    "        count = \"N/A\"\n",
    "    return {\"response_code\": response_code, \"response_hour\": hour, \"count\": count, \"response_time\": end_time - start_time}\n"
   ]
  },
  {
   "cell_type": "code",
   "execution_count": 2,
   "metadata": {
    "ExecuteTime": {
     "start_time": "2023-05-09T17:42:44.465060Z",
     "end_time": "2023-05-09T17:42:44.470619Z"
    }
   },
   "outputs": [],
   "source": [
    "def construct_dataset(url,quantity_of_requests = 100):\n",
    "    data = []\n",
    "    with concurrent.futures.ThreadPoolExecutor(max_workers=5) as executor:\n",
    "        futures = [executor.submit(get_data, url) for _ in range(quantity_of_requests)]\n",
    "        for future in concurrent.futures.as_completed(futures):\n",
    "            data.append(future.result())\n",
    "    df = pd.DataFrame(data)\n",
    "    return df\n"
   ]
  },
  {
   "cell_type": "code",
   "execution_count": 3,
   "metadata": {
    "ExecuteTime": {
     "start_time": "2023-05-09T17:42:44.475423Z",
     "end_time": "2023-05-09T17:46:30.555972Z"
    }
   },
   "outputs": [],
   "source": [
    "apis_urls = {\"python_api\": \"http://0.0.0.0:8081/\",\n",
    "             \"golang_api\": \"http://localhost:8080/\"}\n",
    "\n",
    "for api_name, url in apis_urls.items():\n",
    "    df = construct_dataset(url,quantity_of_requests=10000)\n",
    "    df.to_csv(f\"{api_name}_data.csv\")\n",
    "    del df\n"
   ]
  },
  {
   "cell_type": "code",
   "execution_count": 4,
   "metadata": {
    "ExecuteTime": {
     "start_time": "2023-05-10T10:17:48.364478Z",
     "end_time": "2023-05-10T10:17:48.385731Z"
    }
   },
   "outputs": [
    {
     "data": {
      "text/plain": "   Unnamed: 0.1  Unnamed: 0  response_code reponse_hour  count  response_time\n0             0           0            405     17:42:44      8      87.667236\n1             1           1            405     17:42:44      7      77.796875\n2             2           2            405     17:42:44      6     135.043701",
      "text/html": "<div>\n<style scoped>\n    .dataframe tbody tr th:only-of-type {\n        vertical-align: middle;\n    }\n\n    .dataframe tbody tr th {\n        vertical-align: top;\n    }\n\n    .dataframe thead th {\n        text-align: right;\n    }\n</style>\n<table border=\"1\" class=\"dataframe\">\n  <thead>\n    <tr style=\"text-align: right;\">\n      <th></th>\n      <th>Unnamed: 0.1</th>\n      <th>Unnamed: 0</th>\n      <th>response_code</th>\n      <th>reponse_hour</th>\n      <th>count</th>\n      <th>response_time</th>\n    </tr>\n  </thead>\n  <tbody>\n    <tr>\n      <th>0</th>\n      <td>0</td>\n      <td>0</td>\n      <td>405</td>\n      <td>17:42:44</td>\n      <td>8</td>\n      <td>87.667236</td>\n    </tr>\n    <tr>\n      <th>1</th>\n      <td>1</td>\n      <td>1</td>\n      <td>405</td>\n      <td>17:42:44</td>\n      <td>7</td>\n      <td>77.796875</td>\n    </tr>\n    <tr>\n      <th>2</th>\n      <td>2</td>\n      <td>2</td>\n      <td>405</td>\n      <td>17:42:44</td>\n      <td>6</td>\n      <td>135.043701</td>\n    </tr>\n  </tbody>\n</table>\n</div>"
     },
     "execution_count": 4,
     "metadata": {},
     "output_type": "execute_result"
    }
   ],
   "source": [
    "df_python = pd.read_csv(\"python_api_data.csv\")\n",
    "\n",
    "df_python.head(3)"
   ]
  },
  {
   "cell_type": "code",
   "execution_count": 5,
   "metadata": {
    "ExecuteTime": {
     "start_time": "2023-05-10T10:17:53.612830Z",
     "end_time": "2023-05-10T10:17:53.639548Z"
    }
   },
   "outputs": [
    {
     "data": {
      "text/plain": "   Unnamed: 0.1  Unnamed: 0  response_code reponse_hour  count  response_time\n0             0           0            405     17:45:06      5     179.286865\n1             1           1            405     17:45:07      8      65.072754\n2             2           2            405     17:45:06      1     158.510986",
      "text/html": "<div>\n<style scoped>\n    .dataframe tbody tr th:only-of-type {\n        vertical-align: middle;\n    }\n\n    .dataframe tbody tr th {\n        vertical-align: top;\n    }\n\n    .dataframe thead th {\n        text-align: right;\n    }\n</style>\n<table border=\"1\" class=\"dataframe\">\n  <thead>\n    <tr style=\"text-align: right;\">\n      <th></th>\n      <th>Unnamed: 0.1</th>\n      <th>Unnamed: 0</th>\n      <th>response_code</th>\n      <th>reponse_hour</th>\n      <th>count</th>\n      <th>response_time</th>\n    </tr>\n  </thead>\n  <tbody>\n    <tr>\n      <th>0</th>\n      <td>0</td>\n      <td>0</td>\n      <td>405</td>\n      <td>17:45:06</td>\n      <td>5</td>\n      <td>179.286865</td>\n    </tr>\n    <tr>\n      <th>1</th>\n      <td>1</td>\n      <td>1</td>\n      <td>405</td>\n      <td>17:45:07</td>\n      <td>8</td>\n      <td>65.072754</td>\n    </tr>\n    <tr>\n      <th>2</th>\n      <td>2</td>\n      <td>2</td>\n      <td>405</td>\n      <td>17:45:06</td>\n      <td>1</td>\n      <td>158.510986</td>\n    </tr>\n  </tbody>\n</table>\n</div>"
     },
     "execution_count": 5,
     "metadata": {},
     "output_type": "execute_result"
    }
   ],
   "source": [
    "df_golang = pd.read_csv(\"golang_api_data.csv\")\n",
    "df_golang.head(3)"
   ]
  },
  {
   "cell_type": "code",
   "execution_count": null,
   "outputs": [],
   "source": [],
   "metadata": {
    "collapsed": false
   }
  }
 ],
 "metadata": {
  "kernelspec": {
   "display_name": "Python 3 (ipykernel)",
   "language": "python",
   "name": "python3"
  },
  "language_info": {
   "codemirror_mode": {
    "name": "ipython",
    "version": 3
   },
   "file_extension": ".py",
   "mimetype": "text/x-python",
   "name": "python",
   "nbconvert_exporter": "python",
   "pygments_lexer": "ipython3",
   "version": "3.10.6"
  }
 },
 "nbformat": 4,
 "nbformat_minor": 1
}
