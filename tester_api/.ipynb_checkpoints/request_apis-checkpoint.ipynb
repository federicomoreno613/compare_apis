{
 "cells": [
  {
   "cell_type": "code",
   "execution_count": 1,
   "metadata": {
    "ExecuteTime": {
     "end_time": "2023-05-09T17:32:29.642764Z",
     "start_time": "2023-05-09T17:32:28.955402Z"
    },
    "pycharm": {
     "is_executing": true
    }
   },
   "outputs": [],
   "source": [
    "from json import JSONDecodeError\n",
    "import time\n",
    "import requests\n",
    "import datetime\n",
    "import pandas as pd\n",
    "import concurrent.futures\n",
    "\n",
    "def get_data(url):\n",
    "    start_time = time.time() * 1000  # record the start time in milliseconds\n",
    "    response = requests.get(url+'date?full_format=true')\n",
    "    end_time = time.time() * 1000  # record the end time in milliseconds\n",
    "    response_code = response.status_code\n",
    "    hour = datetime.datetime.now().strftime(\"%H:%M:%S\")\n",
    "    counter_response = requests.get(f\"{url}counter\")\n",
    "    try:\n",
    "        count = counter_response.json()\n",
    "\n",
    "    except JSONDecodeError:\n",
    "        count = \"N/A\"\n",
    "    return {\"response_code\": response_code, \"hour\": hour, \"count\": count, \"response_time\": end_time - start_time}\n"
   ]
  },
  {
   "cell_type": "code",
   "execution_count": 2,
   "metadata": {
    "ExecuteTime": {
     "end_time": "2023-05-09T17:32:29.650215Z",
     "start_time": "2023-05-09T17:32:29.648138Z"
    }
   },
   "outputs": [],
   "source": [
    "def construct_dataset(url,quantity_of_requests = 100):\n",
    "    data = []\n",
    "    with concurrent.futures.ThreadPoolExecutor(max_workers=5) as executor:\n",
    "        futures = [executor.submit(get_data, url) for _ in range(quantity_of_requests)]\n",
    "        for future in concurrent.futures.as_completed(futures):\n",
    "            data.append(future.result())\n",
    "    df = pd.DataFrame(data)\n",
    "    return df\n"
   ]
  },
  {
   "cell_type": "code",
   "execution_count": null,
   "metadata": {
    "ExecuteTime": {
     "end_time": "2023-05-09T17:26:31.426088Z",
     "start_time": "2023-05-09T17:23:51.106588Z"
    },
    "pycharm": {
     "is_executing": true
    }
   },
   "outputs": [],
   "source": [
    "apis_urls = {\"python_api\": \"http://0.0.0.0:8081/\",\n",
    "             \"golang_api\": \"http://localhost:8080/\"}\n",
    "\n",
    "for api_name, url in apis_urls.items():\n",
    "    df = construct_dataset(url,quantity_of_requests=10000)\n",
    "    df.to_csv(f\"{api_name}_data.csv\")\n",
    "    del df\n"
   ]
  },
  {
   "cell_type": "code",
   "execution_count": null,
   "metadata": {
    "ExecuteTime": {
     "end_time": "2023-05-09T17:26:31.465947Z",
     "start_time": "2023-05-09T17:26:31.427736Z"
    },
    "pycharm": {
     "is_executing": true
    }
   },
   "outputs": [],
   "source": [
    "df_python = pd.read_csv(\"python_api_data.csv\")\n",
    "\n",
    "df_python"
   ]
  },
  {
   "cell_type": "code",
   "execution_count": null,
   "metadata": {
    "ExecuteTime": {
     "end_time": "2023-05-09T17:26:31.479834Z",
     "start_time": "2023-05-09T17:26:31.466813Z"
    },
    "pycharm": {
     "is_executing": true
    }
   },
   "outputs": [],
   "source": [
    "\n",
    "df_golang = pd.read_csv(\"golang_api_data.csv\")"
   ]
  },
  {
   "cell_type": "code",
   "execution_count": null,
   "metadata": {
    "ExecuteTime": {
     "end_time": "2023-05-09T17:26:31.505749Z",
     "start_time": "2023-05-09T17:26:31.488460Z"
    },
    "pycharm": {
     "is_executing": true
    }
   },
   "outputs": [],
   "source": [
    "df_golang"
   ]
  },
  {
   "cell_type": "code",
   "execution_count": null,
   "metadata": {
    "ExecuteTime": {
     "end_time": "2023-05-09T17:28:43.844032Z",
     "start_time": "2023-05-09T17:28:43.813394Z"
    },
    "pycharm": {
     "is_executing": true
    }
   },
   "outputs": [],
   "source": [
    "df_python.sort_values(by=\"count\",ascending=True)"
   ]
  },
  {
   "cell_type": "code",
   "execution_count": null,
   "metadata": {
    "ExecuteTime": {
     "end_time": "2023-05-09T17:28:25.678767Z",
     "start_time": "2023-05-09T17:28:25.657034Z"
    },
    "pycharm": {
     "is_executing": true
    }
   },
   "outputs": [],
   "source": [
    "df_golang.sort_values(by=\"count\",ascending=True)"
   ]
  },
  {
   "cell_type": "code",
   "execution_count": null,
   "metadata": {
    "pycharm": {
     "is_executing": true
    }
   },
   "outputs": [],
   "source": []
  }
 ],
 "metadata": {
  "kernelspec": {
   "display_name": "Python 3 (ipykernel)",
   "language": "python",
   "name": "python3"
  },
  "language_info": {
   "codemirror_mode": {
    "name": "ipython",
    "version": 3
   },
   "file_extension": ".py",
   "mimetype": "text/x-python",
   "name": "python",
   "nbconvert_exporter": "python",
   "pygments_lexer": "ipython3",
   "version": "3.10.6"
  }
 },
 "nbformat": 4,
 "nbformat_minor": 1
}
