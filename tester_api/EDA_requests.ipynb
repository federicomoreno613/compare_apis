{
 "cells": [
  {
   "cell_type": "code",
   "execution_count": 1,
   "metadata": {
    "collapsed": true,
    "ExecuteTime": {
     "start_time": "2023-05-10T10:59:43.016648Z",
     "end_time": "2023-05-10T10:59:43.378339Z"
    }
   },
   "outputs": [],
   "source": [
    "import pandas as pd\n",
    "import numpy as np\n",
    "import matplotlib.pyplot as plt\n",
    "import seaborn as sns\n",
    "import os\n",
    "import pytest\n",
    "#!pip install ipytest\n",
    "import ipytest\n"
   ]
  },
  {
   "cell_type": "code",
   "execution_count": 2,
   "outputs": [
    {
     "name": "stdout",
     "output_type": "stream",
     "text": [
      "total 1688\r\n",
      "-rw-r--r--  1 federicomoreno  staff  131983 May 10 11:12 EDA_requests.ipynb\r\n",
      "-rw-r--r--  1 federicomoreno  staff   25440 May 10 11:09 distplot.png\r\n",
      "-rw-r--r--  1 federicomoreno  staff  328685 May 10 10:20 golang_api_data.csv\r\n",
      "-rw-r--r--  1 federicomoreno  staff   19991 May 10 11:09 mean_response_time.png\r\n",
      "-rw-r--r--  1 federicomoreno  staff  334734 May 10 10:20 python_api_data.csv\r\n",
      "-rw-r--r--  1 federicomoreno  staff    6804 May 10 10:17 request_apis.ipynb\r\n"
     ]
    }
   ],
   "source": [
    "!ls -l"
   ],
   "metadata": {
    "collapsed": false,
    "ExecuteTime": {
     "start_time": "2023-05-10T10:59:43.380421Z",
     "end_time": "2023-05-10T10:59:43.544999Z"
    }
   }
  },
  {
   "cell_type": "code",
   "execution_count": 3,
   "outputs": [],
   "source": [
    "df_python = pd.read_csv('python_api_data.csv')\n",
    "df_go = pd.read_csv('golang_api_data.csv')"
   ],
   "metadata": {
    "collapsed": false,
    "ExecuteTime": {
     "start_time": "2023-05-10T10:59:43.550707Z",
     "end_time": "2023-05-10T10:59:43.583586Z"
    }
   }
  },
  {
   "cell_type": "markdown",
   "source": [
    "# Count of APIs\n",
    "## Locks vs Atomic\n",
    "\n",
    "Podemos ver que la api de python que usa lock para contar no tiene consistencia a la hora de devolver el count. Python no devuelve secuenciales en cambio go lang con atomics devuelve el conteo secuencial a pesar de haber hecho requests concurrentes. De hecho solo hice 1000 y python no lleva bien el conteo."
   ],
   "metadata": {
    "collapsed": false
   }
  },
  {
   "cell_type": "code",
   "execution_count": 4,
   "outputs": [
    {
     "data": {
      "text/plain": "      response_code reponse_hour  count  response_time\n2               405     17:42:44      6     135.043701\n1               405     17:42:44      7      77.796875\n0               405     17:42:44      8      87.667236\n3               405     17:42:44     10      78.639160\n4               405     17:42:44     10     145.483887\n...             ...          ...    ...            ...\n9995            405     17:45:06  19993      27.715820\n9996            405     17:45:06  19996      50.090088\n9997            405     17:45:06  19998      29.742188\n9998            405     17:45:06  19999      38.071045\n9999            405     17:45:06  20000      29.063965\n\n[10000 rows x 4 columns]",
      "text/html": "<div>\n<style scoped>\n    .dataframe tbody tr th:only-of-type {\n        vertical-align: middle;\n    }\n\n    .dataframe tbody tr th {\n        vertical-align: top;\n    }\n\n    .dataframe thead th {\n        text-align: right;\n    }\n</style>\n<table border=\"1\" class=\"dataframe\">\n  <thead>\n    <tr style=\"text-align: right;\">\n      <th></th>\n      <th>response_code</th>\n      <th>reponse_hour</th>\n      <th>count</th>\n      <th>response_time</th>\n    </tr>\n  </thead>\n  <tbody>\n    <tr>\n      <th>2</th>\n      <td>405</td>\n      <td>17:42:44</td>\n      <td>6</td>\n      <td>135.043701</td>\n    </tr>\n    <tr>\n      <th>1</th>\n      <td>405</td>\n      <td>17:42:44</td>\n      <td>7</td>\n      <td>77.796875</td>\n    </tr>\n    <tr>\n      <th>0</th>\n      <td>405</td>\n      <td>17:42:44</td>\n      <td>8</td>\n      <td>87.667236</td>\n    </tr>\n    <tr>\n      <th>3</th>\n      <td>405</td>\n      <td>17:42:44</td>\n      <td>10</td>\n      <td>78.639160</td>\n    </tr>\n    <tr>\n      <th>4</th>\n      <td>405</td>\n      <td>17:42:44</td>\n      <td>10</td>\n      <td>145.483887</td>\n    </tr>\n    <tr>\n      <th>...</th>\n      <td>...</td>\n      <td>...</td>\n      <td>...</td>\n      <td>...</td>\n    </tr>\n    <tr>\n      <th>9995</th>\n      <td>405</td>\n      <td>17:45:06</td>\n      <td>19993</td>\n      <td>27.715820</td>\n    </tr>\n    <tr>\n      <th>9996</th>\n      <td>405</td>\n      <td>17:45:06</td>\n      <td>19996</td>\n      <td>50.090088</td>\n    </tr>\n    <tr>\n      <th>9997</th>\n      <td>405</td>\n      <td>17:45:06</td>\n      <td>19998</td>\n      <td>29.742188</td>\n    </tr>\n    <tr>\n      <th>9998</th>\n      <td>405</td>\n      <td>17:45:06</td>\n      <td>19999</td>\n      <td>38.071045</td>\n    </tr>\n    <tr>\n      <th>9999</th>\n      <td>405</td>\n      <td>17:45:06</td>\n      <td>20000</td>\n      <td>29.063965</td>\n    </tr>\n  </tbody>\n</table>\n<p>10000 rows × 4 columns</p>\n</div>"
     },
     "execution_count": 4,
     "metadata": {},
     "output_type": "execute_result"
    }
   ],
   "source": [
    "df_python.sort_values(by=\"count\",ascending=True)\n"
   ],
   "metadata": {
    "collapsed": false,
    "ExecuteTime": {
     "start_time": "2023-05-10T10:59:43.587137Z",
     "end_time": "2023-05-10T10:59:43.622695Z"
    }
   }
  },
  {
   "cell_type": "code",
   "execution_count": 5,
   "outputs": [],
   "source": [
    "df_go.sort_values(by=\"count\",ascending=True,inplace=True)"
   ],
   "metadata": {
    "collapsed": false,
    "ExecuteTime": {
     "start_time": "2023-05-10T10:59:43.623926Z",
     "end_time": "2023-05-10T10:59:43.631624Z"
    }
   }
  },
  {
   "cell_type": "code",
   "execution_count": 6,
   "outputs": [
    {
     "data": {
      "text/plain": "1"
     },
     "execution_count": 6,
     "metadata": {},
     "output_type": "execute_result"
    }
   ],
   "source": [
    "#lag column\n",
    "df_go['lag'] = df_go['count'].shift(1)\n",
    "#diff column\n",
    "df_go['diff'] = df_go['count'] - df_go['lag']\n",
    "(df_go['diff'] != 1).sum()"
   ],
   "metadata": {
    "collapsed": false,
    "ExecuteTime": {
     "start_time": "2023-05-10T10:59:43.632888Z",
     "end_time": "2023-05-10T10:59:43.716972Z"
    }
   }
  },
  {
   "cell_type": "code",
   "execution_count": 7,
   "outputs": [
    {
     "data": {
      "text/plain": "   response_code reponse_hour  count  response_time  lag  diff\n2            405     17:45:06      1     158.510986  NaN   NaN",
      "text/html": "<div>\n<style scoped>\n    .dataframe tbody tr th:only-of-type {\n        vertical-align: middle;\n    }\n\n    .dataframe tbody tr th {\n        vertical-align: top;\n    }\n\n    .dataframe thead th {\n        text-align: right;\n    }\n</style>\n<table border=\"1\" class=\"dataframe\">\n  <thead>\n    <tr style=\"text-align: right;\">\n      <th></th>\n      <th>response_code</th>\n      <th>reponse_hour</th>\n      <th>count</th>\n      <th>response_time</th>\n      <th>lag</th>\n      <th>diff</th>\n    </tr>\n  </thead>\n  <tbody>\n    <tr>\n      <th>2</th>\n      <td>405</td>\n      <td>17:45:06</td>\n      <td>1</td>\n      <td>158.510986</td>\n      <td>NaN</td>\n      <td>NaN</td>\n    </tr>\n  </tbody>\n</table>\n</div>"
     },
     "execution_count": 7,
     "metadata": {},
     "output_type": "execute_result"
    }
   ],
   "source": [
    "df_go[df_go['diff'] != 1]"
   ],
   "metadata": {
    "collapsed": false,
    "ExecuteTime": {
     "start_time": "2023-05-10T10:59:43.649701Z",
     "end_time": "2023-05-10T10:59:43.743957Z"
    }
   }
  },
  {
   "cell_type": "code",
   "execution_count": 8,
   "outputs": [
    {
     "data": {
      "text/plain": "7820"
     },
     "execution_count": 8,
     "metadata": {},
     "output_type": "execute_result"
    }
   ],
   "source": [
    "df_python.sort_values(by=\"count\",ascending=True,inplace=True)\n",
    "df_python['lag'] = df_python['count'].shift(1)\n",
    "df_python['diff'] = df_python['count'] - df_python['lag']\n",
    "(df_python['diff'] != 1).sum()"
   ],
   "metadata": {
    "collapsed": false,
    "ExecuteTime": {
     "start_time": "2023-05-10T10:59:43.671748Z",
     "end_time": "2023-05-10T10:59:43.823513Z"
    }
   }
  },
  {
   "cell_type": "code",
   "execution_count": 9,
   "outputs": [
    {
     "data": {
      "text/plain": "      response_code reponse_hour  count  response_time      lag  diff\n2               405     17:42:44      6     135.043701      NaN   NaN\n3               405     17:42:44     10      78.639160      8.0   2.0\n4               405     17:42:44     10     145.483887     10.0   0.0\n5               405     17:42:44     17      53.274658     10.0   7.0\n6               405     17:42:44     17      51.327881     17.0   0.0\n...             ...          ...    ...            ...      ...   ...\n9993            405     17:45:06  19991      32.072998  19991.0   0.0\n9994            405     17:45:06  19993      17.624023  19991.0   2.0\n9995            405     17:45:06  19993      27.715820  19993.0   0.0\n9996            405     17:45:06  19996      50.090088  19993.0   3.0\n9997            405     17:45:06  19998      29.742188  19996.0   2.0\n\n[7820 rows x 6 columns]",
      "text/html": "<div>\n<style scoped>\n    .dataframe tbody tr th:only-of-type {\n        vertical-align: middle;\n    }\n\n    .dataframe tbody tr th {\n        vertical-align: top;\n    }\n\n    .dataframe thead th {\n        text-align: right;\n    }\n</style>\n<table border=\"1\" class=\"dataframe\">\n  <thead>\n    <tr style=\"text-align: right;\">\n      <th></th>\n      <th>response_code</th>\n      <th>reponse_hour</th>\n      <th>count</th>\n      <th>response_time</th>\n      <th>lag</th>\n      <th>diff</th>\n    </tr>\n  </thead>\n  <tbody>\n    <tr>\n      <th>2</th>\n      <td>405</td>\n      <td>17:42:44</td>\n      <td>6</td>\n      <td>135.043701</td>\n      <td>NaN</td>\n      <td>NaN</td>\n    </tr>\n    <tr>\n      <th>3</th>\n      <td>405</td>\n      <td>17:42:44</td>\n      <td>10</td>\n      <td>78.639160</td>\n      <td>8.0</td>\n      <td>2.0</td>\n    </tr>\n    <tr>\n      <th>4</th>\n      <td>405</td>\n      <td>17:42:44</td>\n      <td>10</td>\n      <td>145.483887</td>\n      <td>10.0</td>\n      <td>0.0</td>\n    </tr>\n    <tr>\n      <th>5</th>\n      <td>405</td>\n      <td>17:42:44</td>\n      <td>17</td>\n      <td>53.274658</td>\n      <td>10.0</td>\n      <td>7.0</td>\n    </tr>\n    <tr>\n      <th>6</th>\n      <td>405</td>\n      <td>17:42:44</td>\n      <td>17</td>\n      <td>51.327881</td>\n      <td>17.0</td>\n      <td>0.0</td>\n    </tr>\n    <tr>\n      <th>...</th>\n      <td>...</td>\n      <td>...</td>\n      <td>...</td>\n      <td>...</td>\n      <td>...</td>\n      <td>...</td>\n    </tr>\n    <tr>\n      <th>9993</th>\n      <td>405</td>\n      <td>17:45:06</td>\n      <td>19991</td>\n      <td>32.072998</td>\n      <td>19991.0</td>\n      <td>0.0</td>\n    </tr>\n    <tr>\n      <th>9994</th>\n      <td>405</td>\n      <td>17:45:06</td>\n      <td>19993</td>\n      <td>17.624023</td>\n      <td>19991.0</td>\n      <td>2.0</td>\n    </tr>\n    <tr>\n      <th>9995</th>\n      <td>405</td>\n      <td>17:45:06</td>\n      <td>19993</td>\n      <td>27.715820</td>\n      <td>19993.0</td>\n      <td>0.0</td>\n    </tr>\n    <tr>\n      <th>9996</th>\n      <td>405</td>\n      <td>17:45:06</td>\n      <td>19996</td>\n      <td>50.090088</td>\n      <td>19993.0</td>\n      <td>3.0</td>\n    </tr>\n    <tr>\n      <th>9997</th>\n      <td>405</td>\n      <td>17:45:06</td>\n      <td>19998</td>\n      <td>29.742188</td>\n      <td>19996.0</td>\n      <td>2.0</td>\n    </tr>\n  </tbody>\n</table>\n<p>7820 rows × 6 columns</p>\n</div>"
     },
     "execution_count": 9,
     "metadata": {},
     "output_type": "execute_result"
    }
   ],
   "source": [
    "df_python[df_python['diff'] != 1]"
   ],
   "metadata": {
    "collapsed": false,
    "ExecuteTime": {
     "start_time": "2023-05-10T10:59:43.687618Z",
     "end_time": "2023-05-10T10:59:43.846197Z"
    }
   }
  },
  {
   "cell_type": "markdown",
   "source": [
    "Como vemos en el resultado el count no se mantiene consistente en Python"
   ],
   "metadata": {
    "collapsed": false
   }
  },
  {
   "cell_type": "markdown",
   "source": [
    "## Comparacion de tiempos"
   ],
   "metadata": {
    "collapsed": false
   }
  },
  {
   "cell_type": "code",
   "execution_count": 10,
   "outputs": [],
   "source": [
    "df_go.sort_values(by=\"response_time\",ascending=True)\n",
    "#decile of count\n",
    "df_go['decile'] = pd.qcut(df_go['response_time'],10,labels=False)\n",
    "#grouby decile and mean of response time\n",
    "df_go_mean = df_go.groupby('decile',as_index=False)['response_time'].mean()\n",
    "df_go_mean = df_go_mean.rename(columns={'response_time':'mean_response_go_atomic'})"
   ],
   "metadata": {
    "collapsed": false,
    "ExecuteTime": {
     "start_time": "2023-05-10T10:59:43.713502Z",
     "end_time": "2023-05-10T10:59:43.846922Z"
    }
   }
  },
  {
   "cell_type": "code",
   "execution_count": 11,
   "outputs": [],
   "source": [
    "df_python.sort_values(by=\"response_time\",ascending=True)\n",
    "#decile of count\n",
    "df_python['decile'] = pd.qcut(df_python['response_time'],10,labels=False)\n",
    "#grouby decile and mean of response time\n",
    "df_python_mean = df_python.groupby('decile',as_index=False)['response_time'].mean()\n",
    "df_python_mean = df_python_mean.rename(columns={'response_time':'mean_response_python'})"
   ],
   "metadata": {
    "collapsed": false,
    "ExecuteTime": {
     "start_time": "2023-05-10T10:59:43.733180Z",
     "end_time": "2023-05-10T10:59:43.848182Z"
    }
   }
  },
  {
   "cell_type": "code",
   "execution_count": 12,
   "outputs": [
    {
     "data": {
      "text/plain": "   decile  mean_response_go_atomic  mean_response_python\n0       0                10.452243             17.504341\n1       1                12.279624             20.720865\n2       2                13.637510             23.029678\n3       3                14.798229             25.343028\n4       4                15.922962             27.891400\n5       5                17.114794             30.856890\n6       6                18.557352             34.458765\n7       7                20.597139             40.057150\n8       8                24.156473             49.413270\n9       9                63.594405             87.074668",
      "text/html": "<div>\n<style scoped>\n    .dataframe tbody tr th:only-of-type {\n        vertical-align: middle;\n    }\n\n    .dataframe tbody tr th {\n        vertical-align: top;\n    }\n\n    .dataframe thead th {\n        text-align: right;\n    }\n</style>\n<table border=\"1\" class=\"dataframe\">\n  <thead>\n    <tr style=\"text-align: right;\">\n      <th></th>\n      <th>decile</th>\n      <th>mean_response_go_atomic</th>\n      <th>mean_response_python</th>\n    </tr>\n  </thead>\n  <tbody>\n    <tr>\n      <th>0</th>\n      <td>0</td>\n      <td>10.452243</td>\n      <td>17.504341</td>\n    </tr>\n    <tr>\n      <th>1</th>\n      <td>1</td>\n      <td>12.279624</td>\n      <td>20.720865</td>\n    </tr>\n    <tr>\n      <th>2</th>\n      <td>2</td>\n      <td>13.637510</td>\n      <td>23.029678</td>\n    </tr>\n    <tr>\n      <th>3</th>\n      <td>3</td>\n      <td>14.798229</td>\n      <td>25.343028</td>\n    </tr>\n    <tr>\n      <th>4</th>\n      <td>4</td>\n      <td>15.922962</td>\n      <td>27.891400</td>\n    </tr>\n    <tr>\n      <th>5</th>\n      <td>5</td>\n      <td>17.114794</td>\n      <td>30.856890</td>\n    </tr>\n    <tr>\n      <th>6</th>\n      <td>6</td>\n      <td>18.557352</td>\n      <td>34.458765</td>\n    </tr>\n    <tr>\n      <th>7</th>\n      <td>7</td>\n      <td>20.597139</td>\n      <td>40.057150</td>\n    </tr>\n    <tr>\n      <th>8</th>\n      <td>8</td>\n      <td>24.156473</td>\n      <td>49.413270</td>\n    </tr>\n    <tr>\n      <th>9</th>\n      <td>9</td>\n      <td>63.594405</td>\n      <td>87.074668</td>\n    </tr>\n  </tbody>\n</table>\n</div>"
     },
     "execution_count": 12,
     "metadata": {},
     "output_type": "execute_result"
    }
   ],
   "source": [
    "#merge\n",
    "df = pd.merge(df_go_mean,df_python_mean,on='decile')\n",
    "df"
   ],
   "metadata": {
    "collapsed": false,
    "ExecuteTime": {
     "start_time": "2023-05-10T10:59:43.763279Z",
     "end_time": "2023-05-10T10:59:43.895306Z"
    }
   }
  },
  {
   "cell_type": "code",
   "execution_count": 13,
   "outputs": [
    {
     "data": {
      "text/plain": "<Figure size 640x480 with 1 Axes>",
      "image/png": "[encoded data removed]"
     },
     "metadata": {},
     "output_type": "display_data"
    }
   ],
   "source": [
    "df.plot.bar(x='decile',y=['mean_response_go_atomic','mean_response_python'])"
   ],
   "metadata": {
    "collapsed": false,
    "ExecuteTime": {
     "start_time": "2023-05-10T11:07:16.157759Z",
     "end_time": "2023-05-10T11:07:16.497475Z"
    }
   }
  },
  {
   "cell_type": "markdown",
   "source": [
    "# Boxplot\n",
    "\n",
    "Golang tiene una distribucion mas normal que python. Python tiene una distribucion mas sesgada a la derecha. Sin embargo hay un valor mayor de outliers en golang."
   ],
   "metadata": {
    "collapsed": false
   }
  },
  {
   "cell_type": "code",
   "execution_count": 14,
   "outputs": [
    {
     "name": "stderr",
     "output_type": "stream",
     "text": [
      "/Users/federicomoreno/.pyenv/versions/3.10.6/envs/fede_310/lib/python3.10/site-packages/seaborn/distributions.py:2619: FutureWarning: `distplot` is a deprecated function and will be removed in a future version. Please adapt your code to use either `displot` (a figure-level function with similar flexibility) or `histplot` (an axes-level function for histograms).\n",
      "  warnings.warn(msg, FutureWarning)\n",
      "/Users/federicomoreno/.pyenv/versions/3.10.6/envs/fede_310/lib/python3.10/site-packages/seaborn/distributions.py:2619: FutureWarning: `distplot` is a deprecated function and will be removed in a future version. Please adapt your code to use either `displot` (a figure-level function with similar flexibility) or `histplot` (an axes-level function for histograms).\n",
      "  warnings.warn(msg, FutureWarning)\n"
     ]
    },
    {
     "data": {
      "text/plain": "<Figure size 640x480 with 1 Axes>",
      "image/png": "[encoded data removed]"
     },
     "metadata": {},
     "output_type": "display_data"
    }
   ],
   "source": [
    "#cont\n",
    "df_go['language'] = 'go'\n",
    "df_python['language'] = 'python'\n",
    "df_box = pd.concat([df_go,df_python])\n",
    "#boxplot\n",
    "sns.distplot(df_box[df_box['language']=='go']['response_time'],label='go')\n",
    "sns.distplot(df_box[df_box['language']=='python']['response_time'],label='python')\n",
    "plt.legend()\n",
    "plt.show()"
   ],
   "metadata": {
    "collapsed": false,
    "ExecuteTime": {
     "start_time": "2023-05-10T10:59:44.359650Z",
     "end_time": "2023-05-10T10:59:45.584469Z"
    }
   }
  },
  {
   "cell_type": "code",
   "execution_count": 15,
   "outputs": [
    {
     "data": {
      "text/plain": "      response_code_go reponse_hour_go  count_go  response_time_go  lag_go  \\\n2                  405        17:45:06         1        158.510986     NaN   \n3                  405        17:45:06         2        159.871826     1.0   \n5                  405        17:45:06         3        156.963135     2.0   \n6                  405        17:45:06         4        182.351074     3.0   \n0                  405        17:45:06         5        179.286865     4.0   \n...                ...             ...       ...               ...     ...   \n9995               405        17:46:30      9996         13.609863  9995.0   \n9996               405        17:46:30      9997         12.890137  9996.0   \n9997               405        17:46:30      9998         11.196777  9997.0   \n9999               405        17:46:30      9999          8.937744  9998.0   \n9998               405        17:46:30     10000          8.267090  9999.0   \n\n      diff_go  decile_go language_go  response_code_python  \\\n2         NaN          9          go                   405   \n3         1.0          9          go                   405   \n5         1.0          9          go                   405   \n6         1.0          9          go                   405   \n0         1.0          9          go                   405   \n...       ...        ...         ...                   ...   \n9995      1.0          2          go                   405   \n9996      1.0          1          go                   405   \n9997      1.0          0          go                   405   \n9999      1.0          0          go                   405   \n9998      1.0          0          go                   405   \n\n     reponse_hour_python  count_python  response_time_python  lag_python  \\\n2               17:42:44             6            135.043701         NaN   \n3               17:42:44            10             78.639160         8.0   \n5               17:42:44            17             53.274658        10.0   \n6               17:42:44            17             51.327881        17.0   \n0               17:42:44             8             87.667236         7.0   \n...                  ...           ...                   ...         ...   \n9995            17:45:06         19993             27.715820     19993.0   \n9996            17:45:06         19996             50.090088     19993.0   \n9997            17:45:06         19998             29.742188     19996.0   \n9999            17:45:06         20000             29.063965     19999.0   \n9998            17:45:06         19999             38.071045     19998.0   \n\n      diff_python  decile_python language_python  \n2             NaN              9          python  \n3             2.0              9          python  \n5             7.0              8          python  \n6             0.0              8          python  \n0             1.0              9          python  \n...           ...            ...             ...  \n9995          0.0              4          python  \n9996          3.0              8          python  \n9997          2.0              5          python  \n9999          1.0              4          python  \n9998          1.0              7          python  \n\n[10000 rows x 16 columns]",
      "text/html": "<div>\n<style scoped>\n    .dataframe tbody tr th:only-of-type {\n        vertical-align: middle;\n    }\n\n    .dataframe tbody tr th {\n        vertical-align: top;\n    }\n\n    .dataframe thead th {\n        text-align: right;\n    }\n</style>\n<table border=\"1\" class=\"dataframe\">\n  <thead>\n    <tr style=\"text-align: right;\">\n      <th></th>\n      <th>response_code_go</th>\n      <th>reponse_hour_go</th>\n      <th>count_go</th>\n      <th>response_time_go</th>\n      <th>lag_go</th>\n      <th>diff_go</th>\n      <th>decile_go</th>\n      <th>language_go</th>\n      <th>response_code_python</th>\n      <th>reponse_hour_python</th>\n      <th>count_python</th>\n      <th>response_time_python</th>\n      <th>lag_python</th>\n      <th>diff_python</th>\n      <th>decile_python</th>\n      <th>language_python</th>\n    </tr>\n  </thead>\n  <tbody>\n    <tr>\n      <th>2</th>\n      <td>405</td>\n      <td>17:45:06</td>\n      <td>1</td>\n      <td>158.510986</td>\n      <td>NaN</td>\n      <td>NaN</td>\n      <td>9</td>\n      <td>go</td>\n      <td>405</td>\n      <td>17:42:44</td>\n      <td>6</td>\n      <td>135.043701</td>\n      <td>NaN</td>\n      <td>NaN</td>\n      <td>9</td>\n      <td>python</td>\n    </tr>\n    <tr>\n      <th>3</th>\n      <td>405</td>\n      <td>17:45:06</td>\n      <td>2</td>\n      <td>159.871826</td>\n      <td>1.0</td>\n      <td>1.0</td>\n      <td>9</td>\n      <td>go</td>\n      <td>405</td>\n      <td>17:42:44</td>\n      <td>10</td>\n      <td>78.639160</td>\n      <td>8.0</td>\n      <td>2.0</td>\n      <td>9</td>\n      <td>python</td>\n    </tr>\n    <tr>\n      <th>5</th>\n      <td>405</td>\n      <td>17:45:06</td>\n      <td>3</td>\n      <td>156.963135</td>\n      <td>2.0</td>\n      <td>1.0</td>\n      <td>9</td>\n      <td>go</td>\n      <td>405</td>\n      <td>17:42:44</td>\n      <td>17</td>\n      <td>53.274658</td>\n      <td>10.0</td>\n      <td>7.0</td>\n      <td>8</td>\n      <td>python</td>\n    </tr>\n    <tr>\n      <th>6</th>\n      <td>405</td>\n      <td>17:45:06</td>\n      <td>4</td>\n      <td>182.351074</td>\n      <td>3.0</td>\n      <td>1.0</td>\n      <td>9</td>\n      <td>go</td>\n      <td>405</td>\n      <td>17:42:44</td>\n      <td>17</td>\n      <td>51.327881</td>\n      <td>17.0</td>\n      <td>0.0</td>\n      <td>8</td>\n      <td>python</td>\n    </tr>\n    <tr>\n      <th>0</th>\n      <td>405</td>\n      <td>17:45:06</td>\n      <td>5</td>\n      <td>179.286865</td>\n      <td>4.0</td>\n      <td>1.0</td>\n      <td>9</td>\n      <td>go</td>\n      <td>405</td>\n      <td>17:42:44</td>\n      <td>8</td>\n      <td>87.667236</td>\n      <td>7.0</td>\n      <td>1.0</td>\n      <td>9</td>\n      <td>python</td>\n    </tr>\n    <tr>\n      <th>...</th>\n      <td>...</td>\n      <td>...</td>\n      <td>...</td>\n      <td>...</td>\n      <td>...</td>\n      <td>...</td>\n      <td>...</td>\n      <td>...</td>\n      <td>...</td>\n      <td>...</td>\n      <td>...</td>\n      <td>...</td>\n      <td>...</td>\n      <td>...</td>\n      <td>...</td>\n      <td>...</td>\n    </tr>\n    <tr>\n      <th>9995</th>\n      <td>405</td>\n      <td>17:46:30</td>\n      <td>9996</td>\n      <td>13.609863</td>\n      <td>9995.0</td>\n      <td>1.0</td>\n      <td>2</td>\n      <td>go</td>\n      <td>405</td>\n      <td>17:45:06</td>\n      <td>19993</td>\n      <td>27.715820</td>\n      <td>19993.0</td>\n      <td>0.0</td>\n      <td>4</td>\n      <td>python</td>\n    </tr>\n    <tr>\n      <th>9996</th>\n      <td>405</td>\n      <td>17:46:30</td>\n      <td>9997</td>\n      <td>12.890137</td>\n      <td>9996.0</td>\n      <td>1.0</td>\n      <td>1</td>\n      <td>go</td>\n      <td>405</td>\n      <td>17:45:06</td>\n      <td>19996</td>\n      <td>50.090088</td>\n      <td>19993.0</td>\n      <td>3.0</td>\n      <td>8</td>\n      <td>python</td>\n    </tr>\n    <tr>\n      <th>9997</th>\n      <td>405</td>\n      <td>17:46:30</td>\n      <td>9998</td>\n      <td>11.196777</td>\n      <td>9997.0</td>\n      <td>1.0</td>\n      <td>0</td>\n      <td>go</td>\n      <td>405</td>\n      <td>17:45:06</td>\n      <td>19998</td>\n      <td>29.742188</td>\n      <td>19996.0</td>\n      <td>2.0</td>\n      <td>5</td>\n      <td>python</td>\n    </tr>\n    <tr>\n      <th>9999</th>\n      <td>405</td>\n      <td>17:46:30</td>\n      <td>9999</td>\n      <td>8.937744</td>\n      <td>9998.0</td>\n      <td>1.0</td>\n      <td>0</td>\n      <td>go</td>\n      <td>405</td>\n      <td>17:45:06</td>\n      <td>20000</td>\n      <td>29.063965</td>\n      <td>19999.0</td>\n      <td>1.0</td>\n      <td>4</td>\n      <td>python</td>\n    </tr>\n    <tr>\n      <th>9998</th>\n      <td>405</td>\n      <td>17:46:30</td>\n      <td>10000</td>\n      <td>8.267090</td>\n      <td>9999.0</td>\n      <td>1.0</td>\n      <td>0</td>\n      <td>go</td>\n      <td>405</td>\n      <td>17:45:06</td>\n      <td>19999</td>\n      <td>38.071045</td>\n      <td>19998.0</td>\n      <td>1.0</td>\n      <td>7</td>\n      <td>python</td>\n    </tr>\n  </tbody>\n</table>\n<p>10000 rows × 16 columns</p>\n</div>"
     },
     "execution_count": 15,
     "metadata": {},
     "output_type": "execute_result"
    }
   ],
   "source": [
    "#merge df_go and df_python by index\n",
    "df_compare = pd.merge(df_go,df_python,left_index=True,right_index=True,suffixes=('_go','_python'))\n",
    "df_compare"
   ],
   "metadata": {
    "collapsed": false,
    "ExecuteTime": {
     "start_time": "2023-05-10T10:59:45.585684Z",
     "end_time": "2023-05-10T10:59:45.678627Z"
    }
   }
  },
  {
   "cell_type": "code",
   "execution_count": 16,
   "outputs": [],
   "source": [
    "df_compare[\"delay_golang\"] = np.where(df_compare[\"response_time_go\"] > df_compare[\"response_time_python\"], df_compare[\"response_time_go\"] - df_compare[\"response_time_python\"], 0)\n",
    "#filter delay_golang > 0\n",
    "df_compare_delay = df_compare[df_compare['delay_golang']>0]"
   ],
   "metadata": {
    "collapsed": false,
    "ExecuteTime": {
     "start_time": "2023-05-10T11:09:33.655937Z",
     "end_time": "2023-05-10T11:09:33.670262Z"
    }
   }
  },
  {
   "cell_type": "code",
   "execution_count": 17,
   "outputs": [
    {
     "data": {
      "text/plain": "count    1246.000000\nmean       28.635691\nstd        73.729192\nmin         0.000977\n25%         2.149170\n50%         5.360718\n75%        13.298706\nmax       587.762939\nName: delay_golang, dtype: float64"
     },
     "execution_count": 17,
     "metadata": {},
     "output_type": "execute_result"
    }
   ],
   "source": [
    "df_compare_delay.sort_values(by=\"delay_golang\",ascending=False)\n"
   ],
   "metadata": {
    "collapsed": false,
    "ExecuteTime": {
     "start_time": "2023-05-10T11:09:56.382836Z",
     "end_time": "2023-05-10T11:09:56.393620Z"
    }
   }
  },
  {
   "cell_type": "code",
   "execution_count": 19,
   "outputs": [
    {
     "data": {
      "text/plain": "0.1246"
     },
     "execution_count": 19,
     "metadata": {},
     "output_type": "execute_result"
    }
   ],
   "source": [
    "df_compare_delay[['delay_golang','count_go','count_python']]"
   ],
   "metadata": {
    "collapsed": false,
    "ExecuteTime": {
     "start_time": "2023-05-10T11:14:39.867792Z",
     "end_time": "2023-05-10T11:14:39.878850Z"
    }
   }
  }
 ],
 "metadata": {
  "kernelspec": {
   "display_name": "Python 3",
   "language": "python",
   "name": "python3"
  },
  "language_info": {
   "codemirror_mode": {
    "name": "ipython",
    "version": 2
   },
   "file_extension": ".py",
   "mimetype": "text/x-python",
   "name": "python",
   "nbconvert_exporter": "python",
   "pygments_lexer": "ipython2",
   "version": "2.7.6"
  }
 },
 "nbformat": 4,
 "nbformat_minor": 0
}
